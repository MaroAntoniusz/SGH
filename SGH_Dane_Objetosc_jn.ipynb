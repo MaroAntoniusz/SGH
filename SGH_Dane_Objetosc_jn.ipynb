{
 "cells": [
  {
   "cell_type": "code",
   "execution_count": 4,
   "metadata": {},
   "outputs": [],
   "source": [
    "### Dane historyczne dotyczące objętości wysyłek z centrów logistycznym podane w m3.\n",
    "### Dane uszeregowane datowo od 01.01 do 31.12, w kolumnach objętość w latach 2019,2020,2021 i 2022.\n",
    "### Praca i obsługa magazynu trwa cały rok bez względ na dni świąteczne."
   ]
  },
  {
   "cell_type": "code",
   "execution_count": 5,
   "metadata": {},
   "outputs": [],
   "source": [
    "### import bibliotek\n",
    "import pandas as pd\n",
    "import numpy as np\n",
    "import openpyxl"
   ]
  },
  {
   "cell_type": "code",
   "execution_count": 9,
   "metadata": {},
   "outputs": [],
   "source": [
    "### pobranie danych\n",
    "df_dane = pd.read_excel('C:\\\\Users\\\\Marek\\\\Desktop\\\\Dane SGH - zaleczenie obrona\\\\praca obrona\\\\Dane_objetosc1.xlsx')"
   ]
  },
  {
   "cell_type": "code",
   "execution_count": 10,
   "metadata": {},
   "outputs": [
    {
     "data": {
      "text/html": [
       "<div>\n",
       "<style scoped>\n",
       "    .dataframe tbody tr th:only-of-type {\n",
       "        vertical-align: middle;\n",
       "    }\n",
       "\n",
       "    .dataframe tbody tr th {\n",
       "        vertical-align: top;\n",
       "    }\n",
       "\n",
       "    .dataframe thead th {\n",
       "        text-align: right;\n",
       "    }\n",
       "</style>\n",
       "<table border=\"1\" class=\"dataframe\">\n",
       "  <thead>\n",
       "    <tr style=\"text-align: right;\">\n",
       "      <th></th>\n",
       "      <th>Objetosc_2019</th>\n",
       "      <th>Objetosc_2020</th>\n",
       "      <th>Objetosc_2021</th>\n",
       "      <th>Objetosc_2022</th>\n",
       "    </tr>\n",
       "  </thead>\n",
       "  <tbody>\n",
       "    <tr>\n",
       "      <th>0</th>\n",
       "      <td>124.56</td>\n",
       "      <td>98.560</td>\n",
       "      <td>45.6500</td>\n",
       "      <td>147.255600</td>\n",
       "    </tr>\n",
       "    <tr>\n",
       "      <th>1</th>\n",
       "      <td>639.45</td>\n",
       "      <td>647.560</td>\n",
       "      <td>787.3600</td>\n",
       "      <td>158.265400</td>\n",
       "    </tr>\n",
       "    <tr>\n",
       "      <th>2</th>\n",
       "      <td>613.56</td>\n",
       "      <td>602.235</td>\n",
       "      <td>145.3200</td>\n",
       "      <td>874.450000</td>\n",
       "    </tr>\n",
       "    <tr>\n",
       "      <th>3</th>\n",
       "      <td>602.23</td>\n",
       "      <td>598.220</td>\n",
       "      <td>856.4500</td>\n",
       "      <td>1106.664977</td>\n",
       "    </tr>\n",
       "    <tr>\n",
       "      <th>4</th>\n",
       "      <td>589.66</td>\n",
       "      <td>45.540</td>\n",
       "      <td>456.7854</td>\n",
       "      <td>631.325254</td>\n",
       "    </tr>\n",
       "    <tr>\n",
       "      <th>...</th>\n",
       "      <td>...</td>\n",
       "      <td>...</td>\n",
       "      <td>...</td>\n",
       "      <td>...</td>\n",
       "    </tr>\n",
       "    <tr>\n",
       "      <th>360</th>\n",
       "      <td>587.77</td>\n",
       "      <td>115.600</td>\n",
       "      <td>785.5800</td>\n",
       "      <td>473.641689</td>\n",
       "    </tr>\n",
       "    <tr>\n",
       "      <th>361</th>\n",
       "      <td>547.55</td>\n",
       "      <td>725.880</td>\n",
       "      <td>328.8800</td>\n",
       "      <td>747.611573</td>\n",
       "    </tr>\n",
       "    <tr>\n",
       "      <th>362</th>\n",
       "      <td>145.22</td>\n",
       "      <td>902.250</td>\n",
       "      <td>456.3200</td>\n",
       "      <td>740.486111</td>\n",
       "    </tr>\n",
       "    <tr>\n",
       "      <th>363</th>\n",
       "      <td>714.56</td>\n",
       "      <td>564.230</td>\n",
       "      <td>415.5500</td>\n",
       "      <td>825.821148</td>\n",
       "    </tr>\n",
       "    <tr>\n",
       "      <th>364</th>\n",
       "      <td>326.23</td>\n",
       "      <td>550.450</td>\n",
       "      <td>326.3200</td>\n",
       "      <td>669.856246</td>\n",
       "    </tr>\n",
       "  </tbody>\n",
       "</table>\n",
       "<p>365 rows × 4 columns</p>\n",
       "</div>"
      ],
      "text/plain": [
       "     Objetosc_2019  Objetosc_2020  Objetosc_2021  Objetosc_2022\n",
       "0           124.56         98.560        45.6500     147.255600\n",
       "1           639.45        647.560       787.3600     158.265400\n",
       "2           613.56        602.235       145.3200     874.450000\n",
       "3           602.23        598.220       856.4500    1106.664977\n",
       "4           589.66         45.540       456.7854     631.325254\n",
       "..             ...            ...            ...            ...\n",
       "360         587.77        115.600       785.5800     473.641689\n",
       "361         547.55        725.880       328.8800     747.611573\n",
       "362         145.22        902.250       456.3200     740.486111\n",
       "363         714.56        564.230       415.5500     825.821148\n",
       "364         326.23        550.450       326.3200     669.856246\n",
       "\n",
       "[365 rows x 4 columns]"
      ]
     },
     "execution_count": 10,
     "metadata": {},
     "output_type": "execute_result"
    }
   ],
   "source": [
    "df_dane"
   ]
  },
  {
   "cell_type": "code",
   "execution_count": 11,
   "metadata": {},
   "outputs": [],
   "source": [
    "### dopasowanie danych z roku 2022 jako zbiór uczący\n",
    "y= df_dane['Objetosc_2022']"
   ]
  },
  {
   "cell_type": "code",
   "execution_count": 12,
   "metadata": {},
   "outputs": [
    {
     "data": {
      "text/plain": [
       "0       147.255600\n",
       "1       158.265400\n",
       "2       874.450000\n",
       "3      1106.664977\n",
       "4       631.325254\n",
       "          ...     \n",
       "360     473.641689\n",
       "361     747.611573\n",
       "362     740.486111\n",
       "363     825.821148\n",
       "364     669.856246\n",
       "Name: Objetosc_2022, Length: 365, dtype: float64"
      ]
     },
     "execution_count": 12,
     "metadata": {},
     "output_type": "execute_result"
    }
   ],
   "source": [
    "y"
   ]
  },
  {
   "cell_type": "code",
   "execution_count": 13,
   "metadata": {},
   "outputs": [],
   "source": [
    "### pozbycie się z tabeli danych z roku 2022 i wykorzystanieich jako zbiór \"trenujący\"\n",
    "X = df_dane.drop('Objetosc_2022',axis=1)"
   ]
  },
  {
   "cell_type": "code",
   "execution_count": 14,
   "metadata": {},
   "outputs": [
    {
     "data": {
      "text/html": [
       "<div>\n",
       "<style scoped>\n",
       "    .dataframe tbody tr th:only-of-type {\n",
       "        vertical-align: middle;\n",
       "    }\n",
       "\n",
       "    .dataframe tbody tr th {\n",
       "        vertical-align: top;\n",
       "    }\n",
       "\n",
       "    .dataframe thead th {\n",
       "        text-align: right;\n",
       "    }\n",
       "</style>\n",
       "<table border=\"1\" class=\"dataframe\">\n",
       "  <thead>\n",
       "    <tr style=\"text-align: right;\">\n",
       "      <th></th>\n",
       "      <th>Objetosc_2019</th>\n",
       "      <th>Objetosc_2020</th>\n",
       "      <th>Objetosc_2021</th>\n",
       "    </tr>\n",
       "  </thead>\n",
       "  <tbody>\n",
       "    <tr>\n",
       "      <th>0</th>\n",
       "      <td>124.56</td>\n",
       "      <td>98.560</td>\n",
       "      <td>45.6500</td>\n",
       "    </tr>\n",
       "    <tr>\n",
       "      <th>1</th>\n",
       "      <td>639.45</td>\n",
       "      <td>647.560</td>\n",
       "      <td>787.3600</td>\n",
       "    </tr>\n",
       "    <tr>\n",
       "      <th>2</th>\n",
       "      <td>613.56</td>\n",
       "      <td>602.235</td>\n",
       "      <td>145.3200</td>\n",
       "    </tr>\n",
       "    <tr>\n",
       "      <th>3</th>\n",
       "      <td>602.23</td>\n",
       "      <td>598.220</td>\n",
       "      <td>856.4500</td>\n",
       "    </tr>\n",
       "    <tr>\n",
       "      <th>4</th>\n",
       "      <td>589.66</td>\n",
       "      <td>45.540</td>\n",
       "      <td>456.7854</td>\n",
       "    </tr>\n",
       "    <tr>\n",
       "      <th>...</th>\n",
       "      <td>...</td>\n",
       "      <td>...</td>\n",
       "      <td>...</td>\n",
       "    </tr>\n",
       "    <tr>\n",
       "      <th>360</th>\n",
       "      <td>587.77</td>\n",
       "      <td>115.600</td>\n",
       "      <td>785.5800</td>\n",
       "    </tr>\n",
       "    <tr>\n",
       "      <th>361</th>\n",
       "      <td>547.55</td>\n",
       "      <td>725.880</td>\n",
       "      <td>328.8800</td>\n",
       "    </tr>\n",
       "    <tr>\n",
       "      <th>362</th>\n",
       "      <td>145.22</td>\n",
       "      <td>902.250</td>\n",
       "      <td>456.3200</td>\n",
       "    </tr>\n",
       "    <tr>\n",
       "      <th>363</th>\n",
       "      <td>714.56</td>\n",
       "      <td>564.230</td>\n",
       "      <td>415.5500</td>\n",
       "    </tr>\n",
       "    <tr>\n",
       "      <th>364</th>\n",
       "      <td>326.23</td>\n",
       "      <td>550.450</td>\n",
       "      <td>326.3200</td>\n",
       "    </tr>\n",
       "  </tbody>\n",
       "</table>\n",
       "<p>365 rows × 3 columns</p>\n",
       "</div>"
      ],
      "text/plain": [
       "     Objetosc_2019  Objetosc_2020  Objetosc_2021\n",
       "0           124.56         98.560        45.6500\n",
       "1           639.45        647.560       787.3600\n",
       "2           613.56        602.235       145.3200\n",
       "3           602.23        598.220       856.4500\n",
       "4           589.66         45.540       456.7854\n",
       "..             ...            ...            ...\n",
       "360         587.77        115.600       785.5800\n",
       "361         547.55        725.880       328.8800\n",
       "362         145.22        902.250       456.3200\n",
       "363         714.56        564.230       415.5500\n",
       "364         326.23        550.450       326.3200\n",
       "\n",
       "[365 rows x 3 columns]"
      ]
     },
     "execution_count": 14,
     "metadata": {},
     "output_type": "execute_result"
    }
   ],
   "source": [
    "X"
   ]
  },
  {
   "cell_type": "code",
   "execution_count": 15,
   "metadata": {},
   "outputs": [],
   "source": [
    "### Pobranie odpowiednich bliliotek\n",
    "from sklearn.model_selection import train_test_split\n",
    "\n",
    "X_train,X_test,y_train,y_test = train_test_split(X,y,test_size=0.2, random_state=100)"
   ]
  },
  {
   "cell_type": "code",
   "execution_count": 16,
   "metadata": {},
   "outputs": [
    {
     "data": {
      "text/html": [
       "<div>\n",
       "<style scoped>\n",
       "    .dataframe tbody tr th:only-of-type {\n",
       "        vertical-align: middle;\n",
       "    }\n",
       "\n",
       "    .dataframe tbody tr th {\n",
       "        vertical-align: top;\n",
       "    }\n",
       "\n",
       "    .dataframe thead th {\n",
       "        text-align: right;\n",
       "    }\n",
       "</style>\n",
       "<table border=\"1\" class=\"dataframe\">\n",
       "  <thead>\n",
       "    <tr style=\"text-align: right;\">\n",
       "      <th></th>\n",
       "      <th>Objetosc_2019</th>\n",
       "      <th>Objetosc_2020</th>\n",
       "      <th>Objetosc_2021</th>\n",
       "    </tr>\n",
       "  </thead>\n",
       "  <tbody>\n",
       "    <tr>\n",
       "      <th>147</th>\n",
       "      <td>700.21</td>\n",
       "      <td>587.45</td>\n",
       "      <td>415.323</td>\n",
       "    </tr>\n",
       "    <tr>\n",
       "      <th>125</th>\n",
       "      <td>745.25</td>\n",
       "      <td>698.45</td>\n",
       "      <td>789.230</td>\n",
       "    </tr>\n",
       "    <tr>\n",
       "      <th>314</th>\n",
       "      <td>456.25</td>\n",
       "      <td>325.23</td>\n",
       "      <td>98.990</td>\n",
       "    </tr>\n",
       "    <tr>\n",
       "      <th>56</th>\n",
       "      <td>745.25</td>\n",
       "      <td>601.50</td>\n",
       "      <td>487.120</td>\n",
       "    </tr>\n",
       "    <tr>\n",
       "      <th>241</th>\n",
       "      <td>587.77</td>\n",
       "      <td>189.60</td>\n",
       "      <td>802.220</td>\n",
       "    </tr>\n",
       "    <tr>\n",
       "      <th>...</th>\n",
       "      <td>...</td>\n",
       "      <td>...</td>\n",
       "      <td>...</td>\n",
       "    </tr>\n",
       "    <tr>\n",
       "      <th>136</th>\n",
       "      <td>547.44</td>\n",
       "      <td>135.23</td>\n",
       "      <td>745.260</td>\n",
       "    </tr>\n",
       "    <tr>\n",
       "      <th>191</th>\n",
       "      <td>502.33</td>\n",
       "      <td>354.22</td>\n",
       "      <td>112.230</td>\n",
       "    </tr>\n",
       "    <tr>\n",
       "      <th>360</th>\n",
       "      <td>587.77</td>\n",
       "      <td>115.60</td>\n",
       "      <td>785.580</td>\n",
       "    </tr>\n",
       "    <tr>\n",
       "      <th>3</th>\n",
       "      <td>602.23</td>\n",
       "      <td>598.22</td>\n",
       "      <td>856.450</td>\n",
       "    </tr>\n",
       "    <tr>\n",
       "      <th>20</th>\n",
       "      <td>811.55</td>\n",
       "      <td>845.24</td>\n",
       "      <td>856.320</td>\n",
       "    </tr>\n",
       "  </tbody>\n",
       "</table>\n",
       "<p>73 rows × 3 columns</p>\n",
       "</div>"
      ],
      "text/plain": [
       "     Objetosc_2019  Objetosc_2020  Objetosc_2021\n",
       "147         700.21         587.45        415.323\n",
       "125         745.25         698.45        789.230\n",
       "314         456.25         325.23         98.990\n",
       "56          745.25         601.50        487.120\n",
       "241         587.77         189.60        802.220\n",
       "..             ...            ...            ...\n",
       "136         547.44         135.23        745.260\n",
       "191         502.33         354.22        112.230\n",
       "360         587.77         115.60        785.580\n",
       "3           602.23         598.22        856.450\n",
       "20          811.55         845.24        856.320\n",
       "\n",
       "[73 rows x 3 columns]"
      ]
     },
     "execution_count": 16,
     "metadata": {},
     "output_type": "execute_result"
    }
   ],
   "source": [
    "X_test"
   ]
  },
  {
   "cell_type": "code",
   "execution_count": 17,
   "metadata": {},
   "outputs": [
    {
     "data": {
      "text/html": [
       "<style>#sk-container-id-1 {color: black;background-color: white;}#sk-container-id-1 pre{padding: 0;}#sk-container-id-1 div.sk-toggleable {background-color: white;}#sk-container-id-1 label.sk-toggleable__label {cursor: pointer;display: block;width: 100%;margin-bottom: 0;padding: 0.3em;box-sizing: border-box;text-align: center;}#sk-container-id-1 label.sk-toggleable__label-arrow:before {content: \"▸\";float: left;margin-right: 0.25em;color: #696969;}#sk-container-id-1 label.sk-toggleable__label-arrow:hover:before {color: black;}#sk-container-id-1 div.sk-estimator:hover label.sk-toggleable__label-arrow:before {color: black;}#sk-container-id-1 div.sk-toggleable__content {max-height: 0;max-width: 0;overflow: hidden;text-align: left;background-color: #f0f8ff;}#sk-container-id-1 div.sk-toggleable__content pre {margin: 0.2em;color: black;border-radius: 0.25em;background-color: #f0f8ff;}#sk-container-id-1 input.sk-toggleable__control:checked~div.sk-toggleable__content {max-height: 200px;max-width: 100%;overflow: auto;}#sk-container-id-1 input.sk-toggleable__control:checked~label.sk-toggleable__label-arrow:before {content: \"▾\";}#sk-container-id-1 div.sk-estimator input.sk-toggleable__control:checked~label.sk-toggleable__label {background-color: #d4ebff;}#sk-container-id-1 div.sk-label input.sk-toggleable__control:checked~label.sk-toggleable__label {background-color: #d4ebff;}#sk-container-id-1 input.sk-hidden--visually {border: 0;clip: rect(1px 1px 1px 1px);clip: rect(1px, 1px, 1px, 1px);height: 1px;margin: -1px;overflow: hidden;padding: 0;position: absolute;width: 1px;}#sk-container-id-1 div.sk-estimator {font-family: monospace;background-color: #f0f8ff;border: 1px dotted black;border-radius: 0.25em;box-sizing: border-box;margin-bottom: 0.5em;}#sk-container-id-1 div.sk-estimator:hover {background-color: #d4ebff;}#sk-container-id-1 div.sk-parallel-item::after {content: \"\";width: 100%;border-bottom: 1px solid gray;flex-grow: 1;}#sk-container-id-1 div.sk-label:hover label.sk-toggleable__label {background-color: #d4ebff;}#sk-container-id-1 div.sk-serial::before {content: \"\";position: absolute;border-left: 1px solid gray;box-sizing: border-box;top: 0;bottom: 0;left: 50%;z-index: 0;}#sk-container-id-1 div.sk-serial {display: flex;flex-direction: column;align-items: center;background-color: white;padding-right: 0.2em;padding-left: 0.2em;position: relative;}#sk-container-id-1 div.sk-item {position: relative;z-index: 1;}#sk-container-id-1 div.sk-parallel {display: flex;align-items: stretch;justify-content: center;background-color: white;position: relative;}#sk-container-id-1 div.sk-item::before, #sk-container-id-1 div.sk-parallel-item::before {content: \"\";position: absolute;border-left: 1px solid gray;box-sizing: border-box;top: 0;bottom: 0;left: 50%;z-index: -1;}#sk-container-id-1 div.sk-parallel-item {display: flex;flex-direction: column;z-index: 1;position: relative;background-color: white;}#sk-container-id-1 div.sk-parallel-item:first-child::after {align-self: flex-end;width: 50%;}#sk-container-id-1 div.sk-parallel-item:last-child::after {align-self: flex-start;width: 50%;}#sk-container-id-1 div.sk-parallel-item:only-child::after {width: 0;}#sk-container-id-1 div.sk-dashed-wrapped {border: 1px dashed gray;margin: 0 0.4em 0.5em 0.4em;box-sizing: border-box;padding-bottom: 0.4em;background-color: white;}#sk-container-id-1 div.sk-label label {font-family: monospace;font-weight: bold;display: inline-block;line-height: 1.2em;}#sk-container-id-1 div.sk-label-container {text-align: center;}#sk-container-id-1 div.sk-container {/* jupyter's `normalize.less` sets `[hidden] { display: none; }` but bootstrap.min.css set `[hidden] { display: none !important; }` so we also need the `!important` here to be able to override the default hidden behavior on the sphinx rendered scikit-learn.org. See: https://github.com/scikit-learn/scikit-learn/issues/21755 */display: inline-block !important;position: relative;}#sk-container-id-1 div.sk-text-repr-fallback {display: none;}</style><div id=\"sk-container-id-1\" class=\"sk-top-container\"><div class=\"sk-text-repr-fallback\"><pre>LinearRegression()</pre><b>In a Jupyter environment, please rerun this cell to show the HTML representation or trust the notebook. <br />On GitHub, the HTML representation is unable to render, please try loading this page with nbviewer.org.</b></div><div class=\"sk-container\" hidden><div class=\"sk-item\"><div class=\"sk-estimator sk-toggleable\"><input class=\"sk-toggleable__control sk-hidden--visually\" id=\"sk-estimator-id-1\" type=\"checkbox\" checked><label for=\"sk-estimator-id-1\" class=\"sk-toggleable__label sk-toggleable__label-arrow\">LinearRegression</label><div class=\"sk-toggleable__content\"><pre>LinearRegression()</pre></div></div></div></div></div>"
      ],
      "text/plain": [
       "LinearRegression()"
      ]
     },
     "execution_count": 17,
     "metadata": {},
     "output_type": "execute_result"
    }
   ],
   "source": [
    "### model regresji liniowej\n",
    "from sklearn.linear_model import LinearRegression\n",
    "\n",
    "lr = LinearRegression()\n",
    "lr.fit(X_train,y_train)"
   ]
  },
  {
   "cell_type": "code",
   "execution_count": 18,
   "metadata": {},
   "outputs": [],
   "source": [
    "y_lr_train_pred = lr.predict(X_train)\n",
    "y_lr_test_pred = lr.predict(X_test)"
   ]
  },
  {
   "cell_type": "code",
   "execution_count": 19,
   "metadata": {},
   "outputs": [
    {
     "data": {
      "text/plain": [
       "array([587.52986583, 584.90190604, 580.83939763, 577.65657205,\n",
       "       602.55610573, 593.0418921 , 593.31759698, 619.28883245,\n",
       "       592.63504988, 594.76971087, 624.42720177, 587.21811216,\n",
       "       619.35431768, 596.02110157, 611.69703346, 591.37516433,\n",
       "       598.2189064 , 601.92289934, 569.93066465, 616.94374128,\n",
       "       623.30141288, 592.12755588, 599.91459482, 604.40508362,\n",
       "       610.78350992, 597.12491219, 594.09421714, 592.68908928,\n",
       "       581.41519169, 617.58522837, 590.82133632, 576.10585245,\n",
       "       614.78471229, 639.92769176, 582.65033784, 548.67978838,\n",
       "       617.63363885, 558.21033874, 593.92469428, 598.60223502,\n",
       "       601.99415539, 580.39267114, 584.20146942, 589.66781267,\n",
       "       621.99707989, 628.51713742, 601.39555608, 580.63251445,\n",
       "       598.46144345, 573.42211353, 594.15560434, 587.68306108,\n",
       "       615.66011168, 606.10713513, 621.60732593, 606.7637825 ,\n",
       "       609.21479486, 617.76991772, 598.32664001, 626.92945745,\n",
       "       586.1092568 , 616.86099792, 633.25434452, 585.14091961,\n",
       "       560.93833379, 620.66705419, 571.94852259, 590.61587915,\n",
       "       589.77251665, 585.31954008, 605.90233327, 613.90913688,\n",
       "       575.6815402 , 592.2248872 , 591.41817817, 596.88482204,\n",
       "       598.58799883, 591.81792237, 597.20703357, 624.57992676,\n",
       "       582.2506534 , 594.81827605, 564.32433081, 600.15962111,\n",
       "       653.26222319, 603.44318   , 598.45456719, 599.95124868,\n",
       "       615.1552322 , 593.84893601, 592.70973502, 601.77067414,\n",
       "       575.67511095, 597.9351777 , 626.49666874, 609.25699373,\n",
       "       612.66397512, 594.04958218, 614.88358206, 574.35132636,\n",
       "       611.02867599, 592.66172681, 612.19749989, 582.9741818 ,\n",
       "       604.03693401, 620.55854201, 593.76329068, 607.26166547,\n",
       "       619.38707197, 608.76827965, 623.09581033, 623.84810414,\n",
       "       594.51716746, 586.54948854, 597.07521816, 622.3558541 ,\n",
       "       616.82713306, 623.26654437, 621.6407439 , 585.38565124,\n",
       "       623.28290941, 584.69883261, 609.35161975, 627.90599936,\n",
       "       599.06998343, 580.39035591, 579.69150244, 596.56403279,\n",
       "       618.18536744, 590.65110799, 596.21155094, 613.00216592,\n",
       "       603.26410621, 591.45178837, 565.39071818, 583.76953823,\n",
       "       591.61246782, 576.74319906, 592.37709154, 607.39495604,\n",
       "       564.49930389, 570.58402931, 613.62481039, 614.44045869,\n",
       "       594.52250037, 621.3153487 , 590.66226813, 600.45992533,\n",
       "       601.67644555, 584.99671591, 617.31836995, 618.67797861,\n",
       "       622.20207223, 572.77793416, 601.33437693, 596.2531155 ,\n",
       "       627.04908224, 599.90954831, 616.75263127, 584.39804841,\n",
       "       600.82529218, 583.26857666, 599.71363928, 577.29285371,\n",
       "       602.96570079, 596.382541  , 609.85989178, 600.22030035,\n",
       "       619.80913358, 632.57348768, 597.56456182, 593.18214368,\n",
       "       612.56901123, 600.94331933, 616.25279873, 593.33560805,\n",
       "       588.83242436, 571.46279212, 601.85413465, 579.41967788,\n",
       "       588.42862583, 612.30330002, 611.34255327, 585.94114754,\n",
       "       601.11299956, 625.51143971, 587.67715202, 584.78259861,\n",
       "       575.86701203, 613.1681301 , 591.69212715, 587.77438385,\n",
       "       591.48386975, 595.8792932 , 619.93578432, 592.38897728,\n",
       "       602.72418457, 637.36557558, 570.40429999, 624.20905385,\n",
       "       610.52984012, 601.45615765, 613.07632335, 594.04393138,\n",
       "       588.96749678, 595.32124574, 590.1310319 , 591.73153602,\n",
       "       601.9928564 , 590.89898312, 592.04630632, 608.20621069,\n",
       "       584.01138688, 622.23188311, 634.06916538, 621.8665401 ,\n",
       "       589.12789608, 591.28937314, 620.77712543, 592.91980528,\n",
       "       598.81610896, 597.99379005, 577.63874775, 601.79033162,\n",
       "       592.14519462, 626.86006315, 598.19791518, 594.51304452,\n",
       "       586.98256109, 625.28012739, 613.76668062, 649.92240234,\n",
       "       599.43908481, 588.37633731, 600.84504621, 599.73856089,\n",
       "       617.66369761, 610.43076675, 571.80398116, 619.38323344,\n",
       "       601.33495007, 616.83234803, 626.47400201, 602.18483892,\n",
       "       581.46037794, 592.54459804, 602.47078631, 619.2449463 ,\n",
       "       591.74509141, 565.46649074, 618.09992544, 614.11448682,\n",
       "       596.834915  , 596.73076658, 614.06161093, 601.61455868,\n",
       "       617.39032621, 574.30563638, 604.92886461, 593.33813408,\n",
       "       597.53344375, 614.36140655, 584.86357856, 599.14263646,\n",
       "       638.20218056, 622.16455743, 614.0191876 , 595.8095074 ,\n",
       "       598.14339095, 599.20831245, 617.49370012, 621.69180271,\n",
       "       582.34972463, 614.6851694 , 584.74244306, 591.35351636,\n",
       "       620.33081827, 606.82720484, 613.97264258, 620.48037594,\n",
       "       588.70661583, 617.54490506, 623.85148065, 606.90976362,\n",
       "       584.39521811, 594.94387474, 619.58908665, 592.73180173,\n",
       "       646.52134173, 578.12435138, 599.09229046, 595.96098716])"
      ]
     },
     "execution_count": 19,
     "metadata": {},
     "output_type": "execute_result"
    }
   ],
   "source": [
    "y_lr_train_pred"
   ]
  },
  {
   "cell_type": "code",
   "execution_count": 20,
   "metadata": {},
   "outputs": [
    {
     "data": {
      "text/plain": [
       "array([605.39210655, 585.207174  , 633.33837585, 601.92554656,\n",
       "       616.99795106, 598.4814206 , 609.55281826, 601.37957628,\n",
       "       620.50231552, 588.6168169 , 596.47338129, 616.23005009,\n",
       "       616.68182668, 591.89116776, 604.79197777, 614.61268382,\n",
       "       578.44895995, 607.47806512, 585.26266185, 589.86659654,\n",
       "       603.17161028, 583.58656139, 593.79222901, 611.17689305,\n",
       "       590.52475409, 587.04528698, 606.93258822, 592.50642431,\n",
       "       597.17318675, 591.97744161, 597.76519753, 620.88056946,\n",
       "       568.78503928, 607.19650651, 610.15379723, 587.43151102,\n",
       "       618.56901905, 573.13031186, 591.80948856, 594.42973832,\n",
       "       610.62463385, 643.09341161, 594.8872077 , 589.56178391,\n",
       "       638.03898561, 621.18371014, 615.00935475, 621.98309302,\n",
       "       621.38992692, 626.03987032, 616.39216292, 597.50040174,\n",
       "       623.91475777, 595.22781915, 589.03841254, 628.90933247,\n",
       "       582.47987172, 580.05740684, 617.1539322 , 615.57050425,\n",
       "       588.91061879, 616.66595156, 596.76527986, 606.35966962,\n",
       "       575.59061614, 612.11607045, 589.69062599, 569.92503633,\n",
       "       622.47572984, 630.98704199, 622.24189513, 589.34527069,\n",
       "       573.52007744])"
      ]
     },
     "execution_count": 20,
     "metadata": {},
     "output_type": "execute_result"
    }
   ],
   "source": [
    "y_lr_test_pred"
   ]
  },
  {
   "cell_type": "code",
   "execution_count": 21,
   "metadata": {},
   "outputs": [],
   "source": [
    "from sklearn.metrics import mean_squared_error, r2_score\n",
    "\n",
    "lr_train_mean = mean_squared_error(y_train, y_lr_train_pred)\n",
    "lr_train_r2 = r2_score(y_train, y_lr_train_pred)\n",
    "\n",
    "lr_test_mean = mean_squared_error(y_test, y_lr_test_pred)\n",
    "lr_test_r2 = r2_score(y_test, y_lr_test_pred)"
   ]
  },
  {
   "cell_type": "code",
   "execution_count": 22,
   "metadata": {},
   "outputs": [
    {
     "data": {
      "text/plain": [
       "62284.198233170406"
      ]
     },
     "execution_count": 22,
     "metadata": {},
     "output_type": "execute_result"
    }
   ],
   "source": [
    "lr_train_mean"
   ]
  },
  {
   "cell_type": "code",
   "execution_count": 23,
   "metadata": {},
   "outputs": [
    {
     "data": {
      "text/plain": [
       "0.004608547820911579"
      ]
     },
     "execution_count": 23,
     "metadata": {},
     "output_type": "execute_result"
    }
   ],
   "source": [
    "lr_train_r2"
   ]
  },
  {
   "cell_type": "code",
   "execution_count": 24,
   "metadata": {},
   "outputs": [
    {
     "data": {
      "text/plain": [
       "68709.60831239606"
      ]
     },
     "execution_count": 24,
     "metadata": {},
     "output_type": "execute_result"
    }
   ],
   "source": [
    "lr_test_mean"
   ]
  },
  {
   "cell_type": "code",
   "execution_count": 25,
   "metadata": {},
   "outputs": [
    {
     "data": {
      "text/plain": [
       "-0.009714659158667205"
      ]
     },
     "execution_count": 25,
     "metadata": {},
     "output_type": "execute_result"
    }
   ],
   "source": [
    "lr_test_r2"
   ]
  },
  {
   "cell_type": "code",
   "execution_count": 26,
   "metadata": {},
   "outputs": [],
   "source": [
    "lr_results = pd.DataFrame(['LinearRegression',lr_train_mean,lr_train_r2,lr_test_mean,lr_test_r2]).transpose()"
   ]
  },
  {
   "cell_type": "code",
   "execution_count": 27,
   "metadata": {},
   "outputs": [
    {
     "data": {
      "text/html": [
       "<div>\n",
       "<style scoped>\n",
       "    .dataframe tbody tr th:only-of-type {\n",
       "        vertical-align: middle;\n",
       "    }\n",
       "\n",
       "    .dataframe tbody tr th {\n",
       "        vertical-align: top;\n",
       "    }\n",
       "\n",
       "    .dataframe thead th {\n",
       "        text-align: right;\n",
       "    }\n",
       "</style>\n",
       "<table border=\"1\" class=\"dataframe\">\n",
       "  <thead>\n",
       "    <tr style=\"text-align: right;\">\n",
       "      <th></th>\n",
       "      <th>0</th>\n",
       "      <th>1</th>\n",
       "      <th>2</th>\n",
       "      <th>3</th>\n",
       "      <th>4</th>\n",
       "    </tr>\n",
       "  </thead>\n",
       "  <tbody>\n",
       "    <tr>\n",
       "      <th>0</th>\n",
       "      <td>LinearRegression</td>\n",
       "      <td>62284.2</td>\n",
       "      <td>0.00460855</td>\n",
       "      <td>68709.6</td>\n",
       "      <td>-0.00971466</td>\n",
       "    </tr>\n",
       "  </tbody>\n",
       "</table>\n",
       "</div>"
      ],
      "text/plain": [
       "                  0        1           2        3           4\n",
       "0  LinearRegression  62284.2  0.00460855  68709.6 -0.00971466"
      ]
     },
     "execution_count": 27,
     "metadata": {},
     "output_type": "execute_result"
    }
   ],
   "source": [
    "lr_results"
   ]
  },
  {
   "cell_type": "code",
   "execution_count": 28,
   "metadata": {},
   "outputs": [
    {
     "data": {
      "text/html": [
       "<style>#sk-container-id-2 {color: black;background-color: white;}#sk-container-id-2 pre{padding: 0;}#sk-container-id-2 div.sk-toggleable {background-color: white;}#sk-container-id-2 label.sk-toggleable__label {cursor: pointer;display: block;width: 100%;margin-bottom: 0;padding: 0.3em;box-sizing: border-box;text-align: center;}#sk-container-id-2 label.sk-toggleable__label-arrow:before {content: \"▸\";float: left;margin-right: 0.25em;color: #696969;}#sk-container-id-2 label.sk-toggleable__label-arrow:hover:before {color: black;}#sk-container-id-2 div.sk-estimator:hover label.sk-toggleable__label-arrow:before {color: black;}#sk-container-id-2 div.sk-toggleable__content {max-height: 0;max-width: 0;overflow: hidden;text-align: left;background-color: #f0f8ff;}#sk-container-id-2 div.sk-toggleable__content pre {margin: 0.2em;color: black;border-radius: 0.25em;background-color: #f0f8ff;}#sk-container-id-2 input.sk-toggleable__control:checked~div.sk-toggleable__content {max-height: 200px;max-width: 100%;overflow: auto;}#sk-container-id-2 input.sk-toggleable__control:checked~label.sk-toggleable__label-arrow:before {content: \"▾\";}#sk-container-id-2 div.sk-estimator input.sk-toggleable__control:checked~label.sk-toggleable__label {background-color: #d4ebff;}#sk-container-id-2 div.sk-label input.sk-toggleable__control:checked~label.sk-toggleable__label {background-color: #d4ebff;}#sk-container-id-2 input.sk-hidden--visually {border: 0;clip: rect(1px 1px 1px 1px);clip: rect(1px, 1px, 1px, 1px);height: 1px;margin: -1px;overflow: hidden;padding: 0;position: absolute;width: 1px;}#sk-container-id-2 div.sk-estimator {font-family: monospace;background-color: #f0f8ff;border: 1px dotted black;border-radius: 0.25em;box-sizing: border-box;margin-bottom: 0.5em;}#sk-container-id-2 div.sk-estimator:hover {background-color: #d4ebff;}#sk-container-id-2 div.sk-parallel-item::after {content: \"\";width: 100%;border-bottom: 1px solid gray;flex-grow: 1;}#sk-container-id-2 div.sk-label:hover label.sk-toggleable__label {background-color: #d4ebff;}#sk-container-id-2 div.sk-serial::before {content: \"\";position: absolute;border-left: 1px solid gray;box-sizing: border-box;top: 0;bottom: 0;left: 50%;z-index: 0;}#sk-container-id-2 div.sk-serial {display: flex;flex-direction: column;align-items: center;background-color: white;padding-right: 0.2em;padding-left: 0.2em;position: relative;}#sk-container-id-2 div.sk-item {position: relative;z-index: 1;}#sk-container-id-2 div.sk-parallel {display: flex;align-items: stretch;justify-content: center;background-color: white;position: relative;}#sk-container-id-2 div.sk-item::before, #sk-container-id-2 div.sk-parallel-item::before {content: \"\";position: absolute;border-left: 1px solid gray;box-sizing: border-box;top: 0;bottom: 0;left: 50%;z-index: -1;}#sk-container-id-2 div.sk-parallel-item {display: flex;flex-direction: column;z-index: 1;position: relative;background-color: white;}#sk-container-id-2 div.sk-parallel-item:first-child::after {align-self: flex-end;width: 50%;}#sk-container-id-2 div.sk-parallel-item:last-child::after {align-self: flex-start;width: 50%;}#sk-container-id-2 div.sk-parallel-item:only-child::after {width: 0;}#sk-container-id-2 div.sk-dashed-wrapped {border: 1px dashed gray;margin: 0 0.4em 0.5em 0.4em;box-sizing: border-box;padding-bottom: 0.4em;background-color: white;}#sk-container-id-2 div.sk-label label {font-family: monospace;font-weight: bold;display: inline-block;line-height: 1.2em;}#sk-container-id-2 div.sk-label-container {text-align: center;}#sk-container-id-2 div.sk-container {/* jupyter's `normalize.less` sets `[hidden] { display: none; }` but bootstrap.min.css set `[hidden] { display: none !important; }` so we also need the `!important` here to be able to override the default hidden behavior on the sphinx rendered scikit-learn.org. See: https://github.com/scikit-learn/scikit-learn/issues/21755 */display: inline-block !important;position: relative;}#sk-container-id-2 div.sk-text-repr-fallback {display: none;}</style><div id=\"sk-container-id-2\" class=\"sk-top-container\"><div class=\"sk-text-repr-fallback\"><pre>RandomForestRegressor(max_depth=2, random_state=100)</pre><b>In a Jupyter environment, please rerun this cell to show the HTML representation or trust the notebook. <br />On GitHub, the HTML representation is unable to render, please try loading this page with nbviewer.org.</b></div><div class=\"sk-container\" hidden><div class=\"sk-item\"><div class=\"sk-estimator sk-toggleable\"><input class=\"sk-toggleable__control sk-hidden--visually\" id=\"sk-estimator-id-2\" type=\"checkbox\" checked><label for=\"sk-estimator-id-2\" class=\"sk-toggleable__label sk-toggleable__label-arrow\">RandomForestRegressor</label><div class=\"sk-toggleable__content\"><pre>RandomForestRegressor(max_depth=2, random_state=100)</pre></div></div></div></div></div>"
      ],
      "text/plain": [
       "RandomForestRegressor(max_depth=2, random_state=100)"
      ]
     },
     "execution_count": 28,
     "metadata": {},
     "output_type": "execute_result"
    }
   ],
   "source": [
    "### model random forest\n",
    "from sklearn.ensemble import RandomForestRegressor\n",
    "\n",
    "rf = RandomForestRegressor(max_depth=2, random_state=100)\n",
    "rf.fit(X_train,y_train)"
   ]
  },
  {
   "cell_type": "code",
   "execution_count": 29,
   "metadata": {},
   "outputs": [],
   "source": [
    "y_rf_train_pred = rf.predict(X_train)\n",
    "y_rf_test_pred = rf.predict(X_test)"
   ]
  },
  {
   "cell_type": "code",
   "execution_count": 30,
   "metadata": {},
   "outputs": [],
   "source": [
    "from sklearn.metrics import mean_squared_error, r2_score\n",
    "\n",
    "rf_train_mean = mean_squared_error(y_train, y_rf_train_pred)\n",
    "rf_train_r2 = r2_score(y_train, y_rf_train_pred)\n",
    "\n",
    "rf_test_mean = mean_squared_error(y_test, y_rf_test_pred)\n",
    "rf_test_r2 = r2_score(y_test, y_rf_test_pred)"
   ]
  },
  {
   "cell_type": "code",
   "execution_count": 31,
   "metadata": {},
   "outputs": [],
   "source": [
    "rf_results = pd.DataFrame(['RandomForrest',rf_train_mean,rf_train_r2,rf_test_mean,rf_test_r2]).transpose()"
   ]
  },
  {
   "cell_type": "code",
   "execution_count": 32,
   "metadata": {},
   "outputs": [
    {
     "data": {
      "text/html": [
       "<div>\n",
       "<style scoped>\n",
       "    .dataframe tbody tr th:only-of-type {\n",
       "        vertical-align: middle;\n",
       "    }\n",
       "\n",
       "    .dataframe tbody tr th {\n",
       "        vertical-align: top;\n",
       "    }\n",
       "\n",
       "    .dataframe thead th {\n",
       "        text-align: right;\n",
       "    }\n",
       "</style>\n",
       "<table border=\"1\" class=\"dataframe\">\n",
       "  <thead>\n",
       "    <tr style=\"text-align: right;\">\n",
       "      <th></th>\n",
       "      <th>0</th>\n",
       "      <th>1</th>\n",
       "      <th>2</th>\n",
       "      <th>3</th>\n",
       "      <th>4</th>\n",
       "    </tr>\n",
       "  </thead>\n",
       "  <tbody>\n",
       "    <tr>\n",
       "      <th>0</th>\n",
       "      <td>RandomForrest</td>\n",
       "      <td>37983.3</td>\n",
       "      <td>0.392971</td>\n",
       "      <td>56494.9</td>\n",
       "      <td>0.169785</td>\n",
       "    </tr>\n",
       "  </tbody>\n",
       "</table>\n",
       "</div>"
      ],
      "text/plain": [
       "               0        1         2        3         4\n",
       "0  RandomForrest  37983.3  0.392971  56494.9  0.169785"
      ]
     },
     "execution_count": 32,
     "metadata": {},
     "output_type": "execute_result"
    }
   ],
   "source": [
    "rf_results"
   ]
  },
  {
   "cell_type": "code",
   "execution_count": 33,
   "metadata": {},
   "outputs": [],
   "source": [
    "df_models = pd.concat([lr_results,rf_results], axis=0).reset_index(drop=True)"
   ]
  },
  {
   "cell_type": "code",
   "execution_count": 34,
   "metadata": {},
   "outputs": [
    {
     "data": {
      "text/html": [
       "<div>\n",
       "<style scoped>\n",
       "    .dataframe tbody tr th:only-of-type {\n",
       "        vertical-align: middle;\n",
       "    }\n",
       "\n",
       "    .dataframe tbody tr th {\n",
       "        vertical-align: top;\n",
       "    }\n",
       "\n",
       "    .dataframe thead th {\n",
       "        text-align: right;\n",
       "    }\n",
       "</style>\n",
       "<table border=\"1\" class=\"dataframe\">\n",
       "  <thead>\n",
       "    <tr style=\"text-align: right;\">\n",
       "      <th></th>\n",
       "      <th>0</th>\n",
       "      <th>1</th>\n",
       "      <th>2</th>\n",
       "      <th>3</th>\n",
       "      <th>4</th>\n",
       "    </tr>\n",
       "  </thead>\n",
       "  <tbody>\n",
       "    <tr>\n",
       "      <th>0</th>\n",
       "      <td>LinearRegression</td>\n",
       "      <td>62284.2</td>\n",
       "      <td>0.00460855</td>\n",
       "      <td>68709.6</td>\n",
       "      <td>-0.00971466</td>\n",
       "    </tr>\n",
       "    <tr>\n",
       "      <th>1</th>\n",
       "      <td>RandomForrest</td>\n",
       "      <td>37983.3</td>\n",
       "      <td>0.392971</td>\n",
       "      <td>56494.9</td>\n",
       "      <td>0.169785</td>\n",
       "    </tr>\n",
       "  </tbody>\n",
       "</table>\n",
       "</div>"
      ],
      "text/plain": [
       "                  0        1           2        3           4\n",
       "0  LinearRegression  62284.2  0.00460855  68709.6 -0.00971466\n",
       "1     RandomForrest  37983.3    0.392971  56494.9    0.169785"
      ]
     },
     "execution_count": 34,
     "metadata": {},
     "output_type": "execute_result"
    }
   ],
   "source": [
    "df_models"
   ]
  },
  {
   "cell_type": "code",
   "execution_count": 35,
   "metadata": {},
   "outputs": [
    {
     "data": {
      "text/plain": [
       "Text(0.5, 0, 'Dane historyczne')"
      ]
     },
     "execution_count": 35,
     "metadata": {},
     "output_type": "execute_result"
    },
    {
     "data": {
      "image/png": "[encoded data removed]",
      "text/plain": [
       "<Figure size 360x360 with 1 Axes>"
      ]
     },
     "metadata": {
      "needs_background": "light"
     },
     "output_type": "display_data"
    }
   ],
   "source": [
    "import matplotlib.pyplot as plt\n",
    "\n",
    "plt.figure(figsize=(5,5))\n",
    "plt.scatter(x=y_train, y=y_lr_train_pred, alpha=0.3, c='grey')\n",
    "\n",
    "p= np.polyfit(y_train, y_rf_train_pred, 1)\n",
    "r= np.poly1d(p)\n",
    "\n",
    "plt.plot(y_train, r(y_train), '#F8766D')\n",
    "plt.ylabel('Prognoza')\n",
    "plt.xlabel('Dane historyczne')"
   ]
  },
  {
   "cell_type": "code",
   "execution_count": 36,
   "metadata": {},
   "outputs": [
    {
     "data": {
      "text/plain": [
       "Text(0.5, 0, 'Dane historyczne')"
      ]
     },
     "execution_count": 36,
     "metadata": {},
     "output_type": "execute_result"
    },
    {
     "data": {
      "image/png": "[encoded data removed]",
      "text/plain": [
       "<Figure size 360x360 with 1 Axes>"
      ]
     },
     "metadata": {
      "needs_background": "light"
     },
     "output_type": "display_data"
    }
   ],
   "source": [
    "plt.figure(figsize=(5,5))\n",
    "plt.scatter(x=y_train, y=y_rf_train_pred, alpha=0.3, c='green')\n",
    "\n",
    "p= np.polyfit(y_train, y_lr_train_pred, 1)\n",
    "r= np.poly1d(p)\n",
    "\n",
    "plt.plot(y_train, r(y_train), '#F8766D')\n",
    "plt.ylabel('Prognoza')\n",
    "plt.xlabel('Dane historyczne')"
   ]
  },
  {
   "cell_type": "code",
   "execution_count": 37,
   "metadata": {},
   "outputs": [],
   "source": [
    "### Wnisoki\n",
    "### Objętość wzratsta sumarycznie z każdym rokiem\n",
    "### Najczęściej spotykaną wartościąjest objętość 600 m3"
   ]
  },
  {
   "cell_type": "code",
   "execution_count": null,
   "metadata": {},
   "outputs": [],
   "source": []
  }
 ],
 "metadata": {
  "kernelspec": {
   "display_name": "Python 3",
   "language": "python",
   "name": "python3"
  },
  "language_info": {
   "codemirror_mode": {
    "name": "ipython",
    "version": 3
   },
   "file_extension": ".py",
   "mimetype": "text/x-python",
   "name": "python",
   "nbconvert_exporter": "python",
   "pygments_lexer": "ipython3",
   "version": "3.8.5"
  }
 },
 "nbformat": 4,
 "nbformat_minor": 4
}
